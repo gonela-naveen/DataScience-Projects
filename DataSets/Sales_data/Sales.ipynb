{
 "cells": [
  {
   "cell_type": "markdown",
   "id": "90d9710a",
   "metadata": {},
   "source": [
    "A private agency conducted a survey and collected the sales details of news communicated via Newspaper, Facebook and YouTube which is available in “Regression_analysis_dataset.csv”. Load this data set and develop a prediction model to forecast the sales details given Newspaper, Facebook, and YouTube as predictors. “Sales” to be considered as Target variable \n",
    "Below mentioned tasks must be performed as part of the model building:\n",
    "1.\tLoad the data set and print the descriptive statistics of the data.\n",
    "2.\tHandle the missing values appropriately if any. \n",
    "3.\tCheck is there are any outliers.\n",
    "4.\tFind the distribution of predictor variable using graphical approach.\n",
    "5.\tPerform bi-variate analysis between each predictor variable with the target variable. \n"
   ]
  },
  {
   "cell_type": "markdown",
   "id": "ab4b44b5",
   "metadata": {},
   "source": [
    "## 1.Load the data set and print the descriptive statistics of the data."
   ]
  },
  {
   "cell_type": "code",
   "execution_count": 105,
   "id": "80049532",
   "metadata": {},
   "outputs": [],
   "source": [
    "import numpy as np\n",
    "import pandas as pd\n",
    "import matplotlib.pyplot as plt"
   ]
  },
  {
   "cell_type": "code",
   "execution_count": 106,
   "id": "32052ea5",
   "metadata": {},
   "outputs": [],
   "source": [
    "df=pd.read_csv(\"sales77.csv\")"
   ]
  },
  {
   "cell_type": "code",
   "execution_count": 107,
   "id": "ae2273cf",
   "metadata": {},
   "outputs": [
    {
     "data": {
      "text/html": [
       "<div>\n",
       "<style scoped>\n",
       "    .dataframe tbody tr th:only-of-type {\n",
       "        vertical-align: middle;\n",
       "    }\n",
       "\n",
       "    .dataframe tbody tr th {\n",
       "        vertical-align: top;\n",
       "    }\n",
       "\n",
       "    .dataframe thead th {\n",
       "        text-align: right;\n",
       "    }\n",
       "</style>\n",
       "<table border=\"1\" class=\"dataframe\">\n",
       "  <thead>\n",
       "    <tr style=\"text-align: right;\">\n",
       "      <th></th>\n",
       "      <th>youtube</th>\n",
       "      <th>facebook</th>\n",
       "      <th>newspaper</th>\n",
       "      <th>sales</th>\n",
       "    </tr>\n",
       "  </thead>\n",
       "  <tbody>\n",
       "    <tr>\n",
       "      <th>0</th>\n",
       "      <td>84.72</td>\n",
       "      <td>19.2</td>\n",
       "      <td>48.96</td>\n",
       "      <td>12.6</td>\n",
       "    </tr>\n",
       "    <tr>\n",
       "      <th>1</th>\n",
       "      <td>351.48</td>\n",
       "      <td>33.96</td>\n",
       "      <td>51.84</td>\n",
       "      <td>25.68</td>\n",
       "    </tr>\n",
       "    <tr>\n",
       "      <th>2</th>\n",
       "      <td>135.48</td>\n",
       "      <td>20.88</td>\n",
       "      <td>46.32</td>\n",
       "      <td>14.28</td>\n",
       "    </tr>\n",
       "    <tr>\n",
       "      <th>3</th>\n",
       "      <td>116.64</td>\n",
       "      <td>1.8</td>\n",
       "      <td>36</td>\n",
       "      <td>11.52</td>\n",
       "    </tr>\n",
       "    <tr>\n",
       "      <th>4</th>\n",
       "      <td>318.72</td>\n",
       "      <td>24</td>\n",
       "      <td>0.36</td>\n",
       "      <td>20.88</td>\n",
       "    </tr>\n",
       "    <tr>\n",
       "      <th>...</th>\n",
       "      <td>...</td>\n",
       "      <td>...</td>\n",
       "      <td>...</td>\n",
       "      <td>...</td>\n",
       "    </tr>\n",
       "    <tr>\n",
       "      <th>166</th>\n",
       "      <td>45.84</td>\n",
       "      <td>4.44</td>\n",
       "      <td>16.56</td>\n",
       "      <td>9.12</td>\n",
       "    </tr>\n",
       "    <tr>\n",
       "      <th>167</th>\n",
       "      <td>113.04</td>\n",
       "      <td>5.88</td>\n",
       "      <td>9.72</td>\n",
       "      <td>11.64</td>\n",
       "    </tr>\n",
       "    <tr>\n",
       "      <th>168</th>\n",
       "      <td>212.4</td>\n",
       "      <td>11.16</td>\n",
       "      <td>7.68</td>\n",
       "      <td>15.36</td>\n",
       "    </tr>\n",
       "    <tr>\n",
       "      <th>169</th>\n",
       "      <td>340.32</td>\n",
       "      <td>50.4</td>\n",
       "      <td>79.44</td>\n",
       "      <td>30.6</td>\n",
       "    </tr>\n",
       "    <tr>\n",
       "      <th>170</th>\n",
       "      <td>278.52</td>\n",
       "      <td>10.32</td>\n",
       "      <td>10.44</td>\n",
       "      <td>16.08</td>\n",
       "    </tr>\n",
       "  </tbody>\n",
       "</table>\n",
       "<p>171 rows × 4 columns</p>\n",
       "</div>"
      ],
      "text/plain": [
       "    youtube facebook newspaper  sales\n",
       "0     84.72     19.2     48.96   12.6\n",
       "1    351.48    33.96     51.84  25.68\n",
       "2    135.48    20.88     46.32  14.28\n",
       "3    116.64      1.8        36  11.52\n",
       "4    318.72       24      0.36  20.88\n",
       "..      ...      ...       ...    ...\n",
       "166   45.84     4.44     16.56   9.12\n",
       "167  113.04     5.88      9.72  11.64\n",
       "168   212.4    11.16      7.68  15.36\n",
       "169  340.32     50.4     79.44   30.6\n",
       "170  278.52    10.32     10.44  16.08\n",
       "\n",
       "[171 rows x 4 columns]"
      ]
     },
     "execution_count": 107,
     "metadata": {},
     "output_type": "execute_result"
    }
   ],
   "source": [
    "df"
   ]
  },
  {
   "cell_type": "code",
   "execution_count": 108,
   "id": "8bf38716",
   "metadata": {},
   "outputs": [
    {
     "data": {
      "text/html": [
       "<div>\n",
       "<style scoped>\n",
       "    .dataframe tbody tr th:only-of-type {\n",
       "        vertical-align: middle;\n",
       "    }\n",
       "\n",
       "    .dataframe tbody tr th {\n",
       "        vertical-align: top;\n",
       "    }\n",
       "\n",
       "    .dataframe thead th {\n",
       "        text-align: right;\n",
       "    }\n",
       "</style>\n",
       "<table border=\"1\" class=\"dataframe\">\n",
       "  <thead>\n",
       "    <tr style=\"text-align: right;\">\n",
       "      <th></th>\n",
       "      <th>youtube</th>\n",
       "      <th>facebook</th>\n",
       "      <th>newspaper</th>\n",
       "      <th>sales</th>\n",
       "    </tr>\n",
       "  </thead>\n",
       "  <tbody>\n",
       "    <tr>\n",
       "      <th>count</th>\n",
       "      <td>171</td>\n",
       "      <td>171</td>\n",
       "      <td>171</td>\n",
       "      <td>171</td>\n",
       "    </tr>\n",
       "    <tr>\n",
       "      <th>unique</th>\n",
       "      <td>163</td>\n",
       "      <td>142</td>\n",
       "      <td>146</td>\n",
       "      <td>112</td>\n",
       "    </tr>\n",
       "    <tr>\n",
       "      <th>top</th>\n",
       "      <td>?</td>\n",
       "      <td>?</td>\n",
       "      <td>10.44</td>\n",
       "      <td>14.04</td>\n",
       "    </tr>\n",
       "    <tr>\n",
       "      <th>freq</th>\n",
       "      <td>3</td>\n",
       "      <td>5</td>\n",
       "      <td>3</td>\n",
       "      <td>4</td>\n",
       "    </tr>\n",
       "  </tbody>\n",
       "</table>\n",
       "</div>"
      ],
      "text/plain": [
       "       youtube facebook newspaper  sales\n",
       "count      171      171       171    171\n",
       "unique     163      142       146    112\n",
       "top          ?        ?     10.44  14.04\n",
       "freq         3        5         3      4"
      ]
     },
     "execution_count": 108,
     "metadata": {},
     "output_type": "execute_result"
    }
   ],
   "source": [
    "df.describe()"
   ]
  },
  {
   "cell_type": "code",
   "execution_count": 109,
   "id": "847aab1b",
   "metadata": {},
   "outputs": [
    {
     "name": "stdout",
     "output_type": "stream",
     "text": [
      "<class 'pandas.core.frame.DataFrame'>\n",
      "RangeIndex: 171 entries, 0 to 170\n",
      "Data columns (total 4 columns):\n",
      " #   Column     Non-Null Count  Dtype \n",
      "---  ------     --------------  ----- \n",
      " 0   youtube    171 non-null    object\n",
      " 1   facebook   171 non-null    object\n",
      " 2   newspaper  171 non-null    object\n",
      " 3   sales      171 non-null    object\n",
      "dtypes: object(4)\n",
      "memory usage: 5.5+ KB\n"
     ]
    }
   ],
   "source": [
    "df.info()"
   ]
  },
  {
   "cell_type": "code",
   "execution_count": 110,
   "id": "104423b8",
   "metadata": {},
   "outputs": [],
   "source": [
    "df.replace('?',np.NaN, inplace = True)"
   ]
  },
  {
   "cell_type": "code",
   "execution_count": 111,
   "id": "704bdba7",
   "metadata": {},
   "outputs": [],
   "source": [
    "df['youtube'] = pd.to_numeric(df.youtube)"
   ]
  },
  {
   "cell_type": "code",
   "execution_count": 112,
   "id": "f070c7ea",
   "metadata": {},
   "outputs": [],
   "source": [
    "df['facebook'] = pd.to_numeric(df.facebook)"
   ]
  },
  {
   "cell_type": "code",
   "execution_count": 113,
   "id": "82b673b2",
   "metadata": {},
   "outputs": [],
   "source": [
    "df['newspaper'] = pd.to_numeric(df.newspaper)"
   ]
  },
  {
   "cell_type": "code",
   "execution_count": 114,
   "id": "b9c52362",
   "metadata": {},
   "outputs": [],
   "source": [
    "df['sales'] = pd.to_numeric(df.sales)"
   ]
  },
  {
   "cell_type": "code",
   "execution_count": 115,
   "id": "fb557619",
   "metadata": {},
   "outputs": [
    {
     "data": {
      "text/plain": [
       "youtube      True\n",
       "facebook     True\n",
       "newspaper    True\n",
       "sales        True\n",
       "dtype: bool"
      ]
     },
     "execution_count": 115,
     "metadata": {},
     "output_type": "execute_result"
    }
   ],
   "source": [
    "df.isna().any()"
   ]
  },
  {
   "cell_type": "markdown",
   "id": "ebcdf124",
   "metadata": {},
   "source": [
    "## 2.Handle the missing values appropriately if any."
   ]
  },
  {
   "cell_type": "code",
   "execution_count": 116,
   "id": "9a7a2d1d",
   "metadata": {},
   "outputs": [
    {
     "data": {
      "text/plain": [
       "6.84     3\n",
       "4.92     3\n",
       "10.08    2\n",
       "16.68    2\n",
       "44.28    2\n",
       "        ..\n",
       "25.32    1\n",
       "40.08    1\n",
       "49.80    1\n",
       "18.48    1\n",
       "9.84     1\n",
       "Name: facebook, Length: 141, dtype: int64"
      ]
     },
     "execution_count": 116,
     "metadata": {},
     "output_type": "execute_result"
    }
   ],
   "source": [
    "df[\"facebook\"].value_counts()"
   ]
  },
  {
   "cell_type": "code",
   "execution_count": 117,
   "id": "8e0abb40",
   "metadata": {},
   "outputs": [
    {
     "data": {
      "text/plain": [
       "youtube      True\n",
       "facebook     True\n",
       "newspaper    True\n",
       "sales        True\n",
       "dtype: bool"
      ]
     },
     "execution_count": 117,
     "metadata": {},
     "output_type": "execute_result"
    }
   ],
   "source": [
    "df.isna().any()"
   ]
  },
  {
   "cell_type": "code",
   "execution_count": 118,
   "id": "b364b531",
   "metadata": {},
   "outputs": [
    {
     "data": {
      "text/plain": [
       "[7, 11, 15, 27, 31, 35, 47, 52, 63, 70, 80, 92]"
      ]
     },
     "execution_count": 118,
     "metadata": {},
     "output_type": "execute_result"
    }
   ],
   "source": [
    "df.loc[df.isna().sum(1)>=1].index.tolist()"
   ]
  },
  {
   "cell_type": "code",
   "execution_count": 119,
   "id": "c3afac5d",
   "metadata": {
    "scrolled": true
   },
   "outputs": [
    {
     "data": {
      "text/plain": [
       "youtube      320.28\n",
       "facebook      52.56\n",
       "newspaper       NaN\n",
       "sales         30.48\n",
       "Name: 7, dtype: float64"
      ]
     },
     "execution_count": 119,
     "metadata": {},
     "output_type": "execute_result"
    }
   ],
   "source": [
    "df.iloc[7]"
   ]
  },
  {
   "cell_type": "code",
   "execution_count": 120,
   "id": "574d6b9c",
   "metadata": {},
   "outputs": [],
   "source": [
    "df[\"youtube\"].fillna(value=df[\"youtube\"].mean(),inplace=True)"
   ]
  },
  {
   "cell_type": "code",
   "execution_count": 121,
   "id": "49d34beb",
   "metadata": {},
   "outputs": [],
   "source": [
    "df[\"facebook\"].fillna(value=df[\"facebook\"].mean(),inplace=True)"
   ]
  },
  {
   "cell_type": "code",
   "execution_count": 122,
   "id": "70a63c9b",
   "metadata": {},
   "outputs": [],
   "source": [
    "df[\"newspaper\"].fillna(value=df[\"newspaper\"].mean(),inplace=True)"
   ]
  },
  {
   "cell_type": "code",
   "execution_count": 123,
   "id": "27e8577b",
   "metadata": {},
   "outputs": [],
   "source": [
    "df[\"sales\"].fillna(value=df[\"sales\"].mean(),inplace=True)"
   ]
  },
  {
   "cell_type": "code",
   "execution_count": 124,
   "id": "408e68e7",
   "metadata": {},
   "outputs": [
    {
     "data": {
      "text/html": [
       "<div>\n",
       "<style scoped>\n",
       "    .dataframe tbody tr th:only-of-type {\n",
       "        vertical-align: middle;\n",
       "    }\n",
       "\n",
       "    .dataframe tbody tr th {\n",
       "        vertical-align: top;\n",
       "    }\n",
       "\n",
       "    .dataframe thead th {\n",
       "        text-align: right;\n",
       "    }\n",
       "</style>\n",
       "<table border=\"1\" class=\"dataframe\">\n",
       "  <thead>\n",
       "    <tr style=\"text-align: right;\">\n",
       "      <th></th>\n",
       "      <th>youtube</th>\n",
       "      <th>facebook</th>\n",
       "      <th>newspaper</th>\n",
       "      <th>sales</th>\n",
       "    </tr>\n",
       "  </thead>\n",
       "  <tbody>\n",
       "    <tr>\n",
       "      <th>0</th>\n",
       "      <td>84.72</td>\n",
       "      <td>19.20</td>\n",
       "      <td>48.96</td>\n",
       "      <td>12.60</td>\n",
       "    </tr>\n",
       "    <tr>\n",
       "      <th>1</th>\n",
       "      <td>351.48</td>\n",
       "      <td>33.96</td>\n",
       "      <td>51.84</td>\n",
       "      <td>25.68</td>\n",
       "    </tr>\n",
       "    <tr>\n",
       "      <th>2</th>\n",
       "      <td>135.48</td>\n",
       "      <td>20.88</td>\n",
       "      <td>46.32</td>\n",
       "      <td>14.28</td>\n",
       "    </tr>\n",
       "    <tr>\n",
       "      <th>3</th>\n",
       "      <td>116.64</td>\n",
       "      <td>1.80</td>\n",
       "      <td>36.00</td>\n",
       "      <td>11.52</td>\n",
       "    </tr>\n",
       "    <tr>\n",
       "      <th>4</th>\n",
       "      <td>318.72</td>\n",
       "      <td>24.00</td>\n",
       "      <td>0.36</td>\n",
       "      <td>20.88</td>\n",
       "    </tr>\n",
       "    <tr>\n",
       "      <th>...</th>\n",
       "      <td>...</td>\n",
       "      <td>...</td>\n",
       "      <td>...</td>\n",
       "      <td>...</td>\n",
       "    </tr>\n",
       "    <tr>\n",
       "      <th>166</th>\n",
       "      <td>45.84</td>\n",
       "      <td>4.44</td>\n",
       "      <td>16.56</td>\n",
       "      <td>9.12</td>\n",
       "    </tr>\n",
       "    <tr>\n",
       "      <th>167</th>\n",
       "      <td>113.04</td>\n",
       "      <td>5.88</td>\n",
       "      <td>9.72</td>\n",
       "      <td>11.64</td>\n",
       "    </tr>\n",
       "    <tr>\n",
       "      <th>168</th>\n",
       "      <td>212.40</td>\n",
       "      <td>11.16</td>\n",
       "      <td>7.68</td>\n",
       "      <td>15.36</td>\n",
       "    </tr>\n",
       "    <tr>\n",
       "      <th>169</th>\n",
       "      <td>340.32</td>\n",
       "      <td>50.40</td>\n",
       "      <td>79.44</td>\n",
       "      <td>30.60</td>\n",
       "    </tr>\n",
       "    <tr>\n",
       "      <th>170</th>\n",
       "      <td>278.52</td>\n",
       "      <td>10.32</td>\n",
       "      <td>10.44</td>\n",
       "      <td>16.08</td>\n",
       "    </tr>\n",
       "  </tbody>\n",
       "</table>\n",
       "<p>171 rows × 4 columns</p>\n",
       "</div>"
      ],
      "text/plain": [
       "     youtube  facebook  newspaper  sales\n",
       "0      84.72     19.20      48.96  12.60\n",
       "1     351.48     33.96      51.84  25.68\n",
       "2     135.48     20.88      46.32  14.28\n",
       "3     116.64      1.80      36.00  11.52\n",
       "4     318.72     24.00       0.36  20.88\n",
       "..       ...       ...        ...    ...\n",
       "166    45.84      4.44      16.56   9.12\n",
       "167   113.04      5.88       9.72  11.64\n",
       "168   212.40     11.16       7.68  15.36\n",
       "169   340.32     50.40      79.44  30.60\n",
       "170   278.52     10.32      10.44  16.08\n",
       "\n",
       "[171 rows x 4 columns]"
      ]
     },
     "execution_count": 124,
     "metadata": {},
     "output_type": "execute_result"
    }
   ],
   "source": [
    "df"
   ]
  },
  {
   "cell_type": "code",
   "execution_count": 125,
   "id": "ee3719c7",
   "metadata": {},
   "outputs": [
    {
     "data": {
      "text/plain": [
       "youtube      320.280000\n",
       "facebook      52.560000\n",
       "newspaper     35.274286\n",
       "sales         30.480000\n",
       "Name: 7, dtype: float64"
      ]
     },
     "execution_count": 125,
     "metadata": {},
     "output_type": "execute_result"
    }
   ],
   "source": [
    "df.iloc[7]"
   ]
  },
  {
   "cell_type": "code",
   "execution_count": 126,
   "id": "990e5331",
   "metadata": {},
   "outputs": [],
   "source": [
    "k1=df[\"newspaper\"].mean()"
   ]
  },
  {
   "cell_type": "code",
   "execution_count": 127,
   "id": "893860c9",
   "metadata": {},
   "outputs": [
    {
     "data": {
      "text/plain": [
       "[]"
      ]
     },
     "execution_count": 127,
     "metadata": {},
     "output_type": "execute_result"
    }
   ],
   "source": [
    "df.loc[df.isna().sum(1)>=1].index.tolist()"
   ]
  },
  {
   "cell_type": "markdown",
   "id": "c024adb6",
   "metadata": {},
   "source": [
    "## 3.Check is there are any outliers."
   ]
  },
  {
   "cell_type": "code",
   "execution_count": 128,
   "id": "36563540",
   "metadata": {},
   "outputs": [
    {
     "data": {
      "image/png": "[encoded data removed]",
      "text/plain": [
       "<Figure size 432x288 with 1 Axes>"
      ]
     },
     "metadata": {
      "needs_background": "light"
     },
     "output_type": "display_data"
    }
   ],
   "source": [
    "import seaborn as sns\n",
    "sns.boxplot(y=df[\"youtube\"])\n",
    "plt.title(\"Boxplot of youtube\")\n",
    "plt.show()"
   ]
  },
  {
   "cell_type": "code",
   "execution_count": 129,
   "id": "41ef2030",
   "metadata": {
    "scrolled": true
   },
   "outputs": [
    {
     "data": {
      "image/png": "[encoded data removed]",
      "text/plain": [
       "<Figure size 432x288 with 1 Axes>"
      ]
     },
     "metadata": {
      "needs_background": "light"
     },
     "output_type": "display_data"
    }
   ],
   "source": [
    "import seaborn as sns\n",
    "sns.boxplot(y=df[\"facebook\"])\n",
    "plt.title(\"Boxplot of facebook\")\n",
    "plt.show()"
   ]
  },
  {
   "cell_type": "code",
   "execution_count": 130,
   "id": "f79c90b6",
   "metadata": {},
   "outputs": [
    {
     "data": {
      "image/png": "[encoded data removed]",
      "text/plain": [
       "<Figure size 432x288 with 1 Axes>"
      ]
     },
     "metadata": {
      "needs_background": "light"
     },
     "output_type": "display_data"
    }
   ],
   "source": [
    "import seaborn as sns\n",
    "sns.boxplot(y=df[\"newspaper\"])\n",
    "plt.title(\"Boxplot of newspaper\")\n",
    "plt.show()"
   ]
  },
  {
   "cell_type": "code",
   "execution_count": 131,
   "id": "2abfb4eb",
   "metadata": {},
   "outputs": [
    {
     "name": "stderr",
     "output_type": "stream",
     "text": [
      "<ipython-input-131-f9964bbdf87e>:10: UserWarning: Matplotlib is currently using module://ipykernel.pylab.backend_inline, which is a non-GUI backend, so cannot show the figure.\n",
      "  fig.show()\n"
     ]
    },
    {
     "data": {
      "image/png": "[encoded data removed]",
      "text/plain": [
       "<Figure size 432x360 with 1 Axes>"
      ]
     },
     "metadata": {
      "needs_background": "light"
     },
     "output_type": "display_data"
    }
   ],
   "source": [
    "df_list=[df[\"youtube\"],df[\"facebook\"],df[\"newspaper\"]]\n",
    "\n",
    "fig = plt.figure(figsize=[6,5])\n",
    "#setting axes\n",
    "ax = fig.add_axes([0, 0, 1, 1])\n",
    "ax.set_title('Boxplot of sales')\n",
    "ax.set_ylabel('Sales')\n",
    "\n",
    "ax.boxplot(df_list)\n",
    "fig.show()"
   ]
  },
  {
   "cell_type": "code",
   "execution_count": 132,
   "id": "b60f2a8b",
   "metadata": {},
   "outputs": [
    {
     "name": "stdout",
     "output_type": "stream",
     "text": [
      "[121.08 107.28 101.76]\n"
     ]
    }
   ],
   "source": [
    "print(df[\"newspaper\"].nlargest(3).values)"
   ]
  },
  {
   "cell_type": "code",
   "execution_count": 133,
   "id": "c929b38d",
   "metadata": {},
   "outputs": [
    {
     "name": "stdout",
     "output_type": "stream",
     "text": [
      "[72, 46, 136]\n"
     ]
    }
   ],
   "source": [
    "print(df[\"newspaper\"].nlargest(3).index.tolist())"
   ]
  },
  {
   "cell_type": "code",
   "execution_count": 134,
   "id": "926c0a3d",
   "metadata": {},
   "outputs": [
    {
     "data": {
      "text/plain": [
       "35.274285714285696"
      ]
     },
     "execution_count": 134,
     "metadata": {},
     "output_type": "execute_result"
    }
   ],
   "source": [
    "k=df[\"newspaper\"].mean()\n",
    "k"
   ]
  },
  {
   "cell_type": "code",
   "execution_count": 135,
   "id": "4396046e",
   "metadata": {},
   "outputs": [],
   "source": [
    "df.iloc[7]=df.iloc[72].fillna(value=df[\"newspaper\"].mean(),inplace=True)"
   ]
  },
  {
   "cell_type": "code",
   "execution_count": 136,
   "id": "07e0ac93",
   "metadata": {},
   "outputs": [
    {
     "data": {
      "text/plain": [
       "[0       84.72\n",
       " 1      351.48\n",
       " 2      135.48\n",
       " 3      116.64\n",
       " 4      318.72\n",
       "         ...  \n",
       " 166     45.84\n",
       " 167    113.04\n",
       " 168    212.40\n",
       " 169    340.32\n",
       " 170    278.52\n",
       " Name: youtube, Length: 171, dtype: float64,\n",
       " 0      19.20\n",
       " 1      33.96\n",
       " 2      20.88\n",
       " 3       1.80\n",
       " 4      24.00\n",
       "        ...  \n",
       " 166     4.44\n",
       " 167     5.88\n",
       " 168    11.16\n",
       " 169    50.40\n",
       " 170    10.32\n",
       " Name: facebook, Length: 171, dtype: float64,\n",
       " 0      48.96\n",
       " 1      51.84\n",
       " 2      46.32\n",
       " 3      36.00\n",
       " 4       0.36\n",
       "        ...  \n",
       " 166    16.56\n",
       " 167     9.72\n",
       " 168     7.68\n",
       " 169    79.44\n",
       " 170    10.44\n",
       " Name: newspaper, Length: 171, dtype: float64]"
      ]
     },
     "execution_count": 136,
     "metadata": {},
     "output_type": "execute_result"
    }
   ],
   "source": [
    "df_list"
   ]
  },
  {
   "cell_type": "markdown",
   "id": "4c631848",
   "metadata": {},
   "source": [
    "## 4.Find the distribution of predictor variable using graphical approach."
   ]
  },
  {
   "cell_type": "code",
   "execution_count": 137,
   "id": "ea4b61ef",
   "metadata": {},
   "outputs": [
    {
     "name": "stderr",
     "output_type": "stream",
     "text": [
      "C:\\ProgramData\\Anaconda3\\lib\\site-packages\\seaborn\\distributions.py:2557: FutureWarning: `distplot` is a deprecated function and will be removed in a future version. Please adapt your code to use either `displot` (a figure-level function with similar flexibility) or `histplot` (an axes-level function for histograms).\n",
      "  warnings.warn(msg, FutureWarning)\n"
     ]
    },
    {
     "data": {
      "text/plain": [
       "<AxesSubplot:ylabel='Density'>"
      ]
     },
     "execution_count": 137,
     "metadata": {},
     "output_type": "execute_result"
    },
    {
     "data": {
      "image/png": "[encoded data removed]",
      "text/plain": [
       "<Figure size 432x288 with 1 Axes>"
      ]
     },
     "metadata": {
      "needs_background": "light"
     },
     "output_type": "display_data"
    }
   ],
   "source": [
    "sns.distplot(df_list)"
   ]
  },
  {
   "cell_type": "code",
   "execution_count": 138,
   "id": "2673cc3b",
   "metadata": {},
   "outputs": [
    {
     "name": "stderr",
     "output_type": "stream",
     "text": [
      "C:\\ProgramData\\Anaconda3\\lib\\site-packages\\seaborn\\distributions.py:2557: FutureWarning: `distplot` is a deprecated function and will be removed in a future version. Please adapt your code to use either `displot` (a figure-level function with similar flexibility) or `histplot` (an axes-level function for histograms).\n",
      "  warnings.warn(msg, FutureWarning)\n"
     ]
    },
    {
     "data": {
      "text/plain": [
       "<AxesSubplot:xlabel='sales', ylabel='Density'>"
      ]
     },
     "execution_count": 138,
     "metadata": {},
     "output_type": "execute_result"
    },
    {
     "data": {
      "image/png": "[encoded data removed]",
      "text/plain": [
       "<Figure size 432x288 with 1 Axes>"
      ]
     },
     "metadata": {
      "needs_background": "light"
     },
     "output_type": "display_data"
    }
   ],
   "source": [
    "sns.distplot(df[\"sales\"])"
   ]
  },
  {
   "cell_type": "markdown",
   "id": "1c545717",
   "metadata": {},
   "source": [
    "## 5.Perform bi-variate analysis between each predictor variable with the target variable."
   ]
  },
  {
   "cell_type": "code",
   "execution_count": 139,
   "id": "7063ecde",
   "metadata": {},
   "outputs": [
    {
     "data": {
      "text/plain": [
       "<seaborn.axisgrid.PairGrid at 0x22770e59880>"
      ]
     },
     "execution_count": 139,
     "metadata": {},
     "output_type": "execute_result"
    },
    {
     "data": {
      "image/png": "[encoded data removed]",
      "text/plain": [
       "<Figure size 720x720 with 20 Axes>"
      ]
     },
     "metadata": {
      "needs_background": "light"
     },
     "output_type": "display_data"
    }
   ],
   "source": [
    "sns.pairplot(df)"
   ]
  },
  {
   "cell_type": "code",
   "execution_count": null,
   "id": "fe514861",
   "metadata": {},
   "outputs": [],
   "source": []
  }
 ],
 "metadata": {
  "kernelspec": {
   "display_name": "Python 3",
   "language": "python",
   "name": "python3"
  },
  "language_info": {
   "codemirror_mode": {
    "name": "ipython",
    "version": 3
   },
   "file_extension": ".py",
   "mimetype": "text/x-python",
   "name": "python",
   "nbconvert_exporter": "python",
   "pygments_lexer": "ipython3",
   "version": "3.8.8"
  }
 },
 "nbformat": 4,
 "nbformat_minor": 5
}
